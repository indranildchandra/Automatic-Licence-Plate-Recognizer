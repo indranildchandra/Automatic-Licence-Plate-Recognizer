{
 "cells": [
  {
   "cell_type": "code",
   "execution_count": 1,
   "metadata": {},
   "outputs": [],
   "source": [
    "# !unzip ./data/normal.zip -d ./data/unzipped_data/"
   ]
  },
  {
   "cell_type": "code",
   "execution_count": 2,
   "metadata": {},
   "outputs": [],
   "source": [
    "# !unzip ./data/hdr.zip -d ./data/unzipped_data/"
   ]
  },
  {
   "cell_type": "code",
   "execution_count": 3,
   "metadata": {},
   "outputs": [],
   "source": [
    "import pandas as pd\n",
    "from PIL import Image\n",
    "import os\n",
    "import cv2\n",
    "import pickle\n",
    "from segment_chars import get_segmented_chars"
   ]
  },
  {
   "cell_type": "code",
   "execution_count": 4,
   "metadata": {},
   "outputs": [],
   "source": [
    "dataset_df = pd.read_csv('./data/dataset.csv', header=None)\n",
    "dataset_df.columns = ['file_location', 'annotation']"
   ]
  },
  {
   "cell_type": "code",
   "execution_count": 5,
   "metadata": {},
   "outputs": [
    {
     "data": {
      "text/html": [
       "<div>\n",
       "<style scoped>\n",
       "    .dataframe tbody tr th:only-of-type {\n",
       "        vertical-align: middle;\n",
       "    }\n",
       "\n",
       "    .dataframe tbody tr th {\n",
       "        vertical-align: top;\n",
       "    }\n",
       "\n",
       "    .dataframe thead th {\n",
       "        text-align: right;\n",
       "    }\n",
       "</style>\n",
       "<table border=\"1\" class=\"dataframe\">\n",
       "  <thead>\n",
       "    <tr style=\"text-align: right;\">\n",
       "      <th></th>\n",
       "      <th>file_location</th>\n",
       "      <th>annotation</th>\n",
       "    </tr>\n",
       "  </thead>\n",
       "  <tbody>\n",
       "    <tr>\n",
       "      <th>0</th>\n",
       "      <td>crop_m1/I00000.png</td>\n",
       "      <td>9B52145</td>\n",
       "    </tr>\n",
       "    <tr>\n",
       "      <th>1</th>\n",
       "      <td>crop_h1/I00000.png</td>\n",
       "      <td>9B52145</td>\n",
       "    </tr>\n",
       "    <tr>\n",
       "      <th>2</th>\n",
       "      <td>crop_m1/I00001.png</td>\n",
       "      <td>6B94558</td>\n",
       "    </tr>\n",
       "    <tr>\n",
       "      <th>3</th>\n",
       "      <td>crop_h1/I00001.png</td>\n",
       "      <td>6B94558</td>\n",
       "    </tr>\n",
       "    <tr>\n",
       "      <th>4</th>\n",
       "      <td>crop_m1/I00002.png</td>\n",
       "      <td>8B90164</td>\n",
       "    </tr>\n",
       "  </tbody>\n",
       "</table>\n",
       "</div>"
      ],
      "text/plain": [
       "        file_location annotation\n",
       "0  crop_m1/I00000.png    9B52145\n",
       "1  crop_h1/I00000.png    9B52145\n",
       "2  crop_m1/I00001.png    6B94558\n",
       "3  crop_h1/I00001.png    6B94558\n",
       "4  crop_m1/I00002.png    8B90164"
      ]
     },
     "execution_count": 5,
     "metadata": {},
     "output_type": "execute_result"
    }
   ],
   "source": [
    "dataset_df.head(5)"
   ]
  },
  {
   "cell_type": "code",
   "execution_count": 6,
   "metadata": {},
   "outputs": [],
   "source": [
    "def get_abs_file_location(file_location):\n",
    "#     if file_location.startswith('crop_m'):\n",
    "#         abs_file_location = os.path.join(os.path.abspath(os.getcwd()), 'data/normal', file_location)\n",
    "#     else:\n",
    "#         abs_file_location = os.path.join(os.path.abspath(os.getcwd()), 'data/hdr', file_location)\n",
    "    abs_file_location = os.path.join(os.path.abspath(os.getcwd()), 'data/unzipped_data', file_location)\n",
    "    return abs_file_location"
   ]
  },
  {
   "cell_type": "code",
   "execution_count": 7,
   "metadata": {},
   "outputs": [],
   "source": [
    "dataset_df['abs_file_location'] = dataset_df.file_location.apply(get_abs_file_location)"
   ]
  },
  {
   "cell_type": "code",
   "execution_count": 8,
   "metadata": {},
   "outputs": [
    {
     "name": "stdout",
     "output_type": "stream",
     "text": [
      "crop_m1/I00000.png\n",
      "/mnt/ebs-1/indranil_chandra/code/code_snippets/anpr/ANPR/Licence_plate_recognition/USA_plates/data/unzipped_data/crop_m1/I00000.png\n"
     ]
    }
   ],
   "source": [
    "print(dataset_df.loc[0, 'file_location'])\n",
    "print(dataset_df.loc[0, 'abs_file_location'])"
   ]
  },
  {
   "cell_type": "code",
   "execution_count": 9,
   "metadata": {},
   "outputs": [],
   "source": [
    "dataset_df['segmented_chars'], dataset_df['segmented_img'] =  zip(*dataset_df.apply(lambda x: get_segmented_chars(x['abs_file_location'], x['annotation']), axis=1))"
   ]
  },
  {
   "cell_type": "code",
   "execution_count": 10,
   "metadata": {},
   "outputs": [],
   "source": [
    "dataset_df['segmentation_success_flag'] = dataset_df.apply(lambda x: len(x['segmented_chars']) == len(x['annotation']), axis=1)"
   ]
  },
  {
   "cell_type": "code",
   "execution_count": 11,
   "metadata": {},
   "outputs": [
    {
     "data": {
      "text/html": [
       "<div>\n",
       "<style scoped>\n",
       "    .dataframe tbody tr th:only-of-type {\n",
       "        vertical-align: middle;\n",
       "    }\n",
       "\n",
       "    .dataframe tbody tr th {\n",
       "        vertical-align: top;\n",
       "    }\n",
       "\n",
       "    .dataframe thead th {\n",
       "        text-align: right;\n",
       "    }\n",
       "</style>\n",
       "<table border=\"1\" class=\"dataframe\">\n",
       "  <thead>\n",
       "    <tr style=\"text-align: right;\">\n",
       "      <th></th>\n",
       "      <th>file_location</th>\n",
       "      <th>annotation</th>\n",
       "      <th>abs_file_location</th>\n",
       "      <th>segmented_chars</th>\n",
       "      <th>segmented_img</th>\n",
       "      <th>segmentation_success_flag</th>\n",
       "    </tr>\n",
       "  </thead>\n",
       "  <tbody>\n",
       "    <tr>\n",
       "      <th>0</th>\n",
       "      <td>crop_m1/I00000.png</td>\n",
       "      <td>9B52145</td>\n",
       "      <td>/mnt/ebs-1/indranil_chandra/code/code_snippets...</td>\n",
       "      <td>([[0.0, 0.0, 0.0, 0.0, 0.0, 0.0, 0.0, 0.0, 0.0...</td>\n",
       "      <td>[[[17, 13, 12], [17, 13, 12], [17, 13, 12], [1...</td>\n",
       "      <td>False</td>\n",
       "    </tr>\n",
       "    <tr>\n",
       "      <th>1</th>\n",
       "      <td>crop_h1/I00000.png</td>\n",
       "      <td>9B52145</td>\n",
       "      <td>/mnt/ebs-1/indranil_chandra/code/code_snippets...</td>\n",
       "      <td>([[0.0, 0.0, 0.0, 0.0, 0.0, 0.0, 0.0, 0.0, 0.0...</td>\n",
       "      <td>[[[54, 44, 37], [53, 43, 36], [52, 42, 35], [5...</td>\n",
       "      <td>False</td>\n",
       "    </tr>\n",
       "    <tr>\n",
       "      <th>2</th>\n",
       "      <td>crop_m1/I00001.png</td>\n",
       "      <td>6B94558</td>\n",
       "      <td>/mnt/ebs-1/indranil_chandra/code/code_snippets...</td>\n",
       "      <td>([[0.0, 0.0, 0.0, 0.0, 0.0, 0.0, 0.0, 0.0, 0.0...</td>\n",
       "      <td>[[[9, 11, 111], [9, 11, 111], [9, 11, 111], [1...</td>\n",
       "      <td>False</td>\n",
       "    </tr>\n",
       "    <tr>\n",
       "      <th>3</th>\n",
       "      <td>crop_h1/I00001.png</td>\n",
       "      <td>6B94558</td>\n",
       "      <td>/mnt/ebs-1/indranil_chandra/code/code_snippets...</td>\n",
       "      <td>([[0.0, 0.0, 0.0, 0.0, 0.0, 0.0, 0.0, 0.0, 0.0...</td>\n",
       "      <td>[[[44, 45, 227], [42, 43, 225], [44, 45, 227],...</td>\n",
       "      <td>False</td>\n",
       "    </tr>\n",
       "    <tr>\n",
       "      <th>4</th>\n",
       "      <td>crop_m1/I00002.png</td>\n",
       "      <td>8B90164</td>\n",
       "      <td>/mnt/ebs-1/indranil_chandra/code/code_snippets...</td>\n",
       "      <td>([[0.0, 25.18518556047369, 25.18518556047369, ...</td>\n",
       "      <td>[[[92, 80, 68], [95, 80, 71], [96, 81, 72], [9...</td>\n",
       "      <td>False</td>\n",
       "    </tr>\n",
       "  </tbody>\n",
       "</table>\n",
       "</div>"
      ],
      "text/plain": [
       "        file_location annotation  \\\n",
       "0  crop_m1/I00000.png    9B52145   \n",
       "1  crop_h1/I00000.png    9B52145   \n",
       "2  crop_m1/I00001.png    6B94558   \n",
       "3  crop_h1/I00001.png    6B94558   \n",
       "4  crop_m1/I00002.png    8B90164   \n",
       "\n",
       "                                   abs_file_location  \\\n",
       "0  /mnt/ebs-1/indranil_chandra/code/code_snippets...   \n",
       "1  /mnt/ebs-1/indranil_chandra/code/code_snippets...   \n",
       "2  /mnt/ebs-1/indranil_chandra/code/code_snippets...   \n",
       "3  /mnt/ebs-1/indranil_chandra/code/code_snippets...   \n",
       "4  /mnt/ebs-1/indranil_chandra/code/code_snippets...   \n",
       "\n",
       "                                     segmented_chars  \\\n",
       "0  ([[0.0, 0.0, 0.0, 0.0, 0.0, 0.0, 0.0, 0.0, 0.0...   \n",
       "1  ([[0.0, 0.0, 0.0, 0.0, 0.0, 0.0, 0.0, 0.0, 0.0...   \n",
       "2  ([[0.0, 0.0, 0.0, 0.0, 0.0, 0.0, 0.0, 0.0, 0.0...   \n",
       "3  ([[0.0, 0.0, 0.0, 0.0, 0.0, 0.0, 0.0, 0.0, 0.0...   \n",
       "4  ([[0.0, 25.18518556047369, 25.18518556047369, ...   \n",
       "\n",
       "                                       segmented_img  \\\n",
       "0  [[[17, 13, 12], [17, 13, 12], [17, 13, 12], [1...   \n",
       "1  [[[54, 44, 37], [53, 43, 36], [52, 42, 35], [5...   \n",
       "2  [[[9, 11, 111], [9, 11, 111], [9, 11, 111], [1...   \n",
       "3  [[[44, 45, 227], [42, 43, 225], [44, 45, 227],...   \n",
       "4  [[[92, 80, 68], [95, 80, 71], [96, 81, 72], [9...   \n",
       "\n",
       "   segmentation_success_flag  \n",
       "0                      False  \n",
       "1                      False  \n",
       "2                      False  \n",
       "3                      False  \n",
       "4                      False  "
      ]
     },
     "execution_count": 11,
     "metadata": {},
     "output_type": "execute_result"
    }
   ],
   "source": [
    "dataset_df.head(5)"
   ]
  },
  {
   "cell_type": "code",
   "execution_count": 12,
   "metadata": {},
   "outputs": [
    {
     "data": {
      "text/plain": [
       "False    0.759202\n",
       "True     0.240798\n",
       "Name: segmentation_success_flag, dtype: float64"
      ]
     },
     "execution_count": 12,
     "metadata": {},
     "output_type": "execute_result"
    }
   ],
   "source": [
    "dataset_df.segmentation_success_flag.value_counts(normalize=True)"
   ]
  },
  {
   "cell_type": "code",
   "execution_count": 13,
   "metadata": {},
   "outputs": [
    {
     "name": "stdout",
     "output_type": "stream",
     "text": [
      "{'M': 7, 'J': 4, 'T': 10, '8': 115, '6': 93, 'S': 2, 'Z': 12, '9': 81, '0': 82, '4': 86, 'E': 2, '1': 92, 'L': 8, 'B': 128, '5': 83, 'G': 2, '3': 94, 'A': 6, 'D': 1, '2': 83, '7': 92, 'I': 3, 'H': 4, 'C': 5}\n"
     ]
    }
   ],
   "source": [
    "from collections import Counter \n",
    "count = Counter(''.join(dataset_df[dataset_df['segmentation_success_flag'] == True].annotation.tolist()))\n",
    "print(dict(count))"
   ]
  },
  {
   "cell_type": "code",
   "execution_count": 14,
   "metadata": {},
   "outputs": [],
   "source": [
    "def save_segmented_image(row):\n",
    "    for index, annotated_char in enumerate(row['annotation']):\n",
    "        image_path = os.path.join(os.path.abspath(os.getcwd()), 'data/segregated_data', annotated_char.upper() + '/' + annotated_char.upper() + '_' + row['file_location'].split('/')[1].split('.')[0] + '_' + str(index) + '.jpg')\n",
    "        os.makedirs(os.path.dirname(image_path), exist_ok=True)\n",
    "        cv2.imwrite(image_path, row['segmented_chars'][index]) \n",
    "    return"
   ]
  },
  {
   "cell_type": "code",
   "execution_count": 15,
   "metadata": {},
   "outputs": [],
   "source": [
    "def save_annotated_image(row):\n",
    "    image_path = os.path.join(os.path.abspath(os.getcwd()), 'data/segmented_data', row['file_location'].split('/')[1].split('.')[0] + '_' + row['annotation'].upper() + '.jpg')\n",
    "    os.makedirs(os.path.dirname(image_path), exist_ok=True)\n",
    "    cv2.imwrite(image_path, row['segmented_img']) \n",
    "    return"
   ]
  },
  {
   "cell_type": "code",
   "execution_count": 16,
   "metadata": {},
   "outputs": [
    {
     "data": {
      "text/plain": [
       "7      None\n",
       "11     None\n",
       "24     None\n",
       "28     None\n",
       "29     None\n",
       "30     None\n",
       "37     None\n",
       "41     None\n",
       "68     None\n",
       "69     None\n",
       "72     None\n",
       "73     None\n",
       "80     None\n",
       "81     None\n",
       "88     None\n",
       "89     None\n",
       "90     None\n",
       "91     None\n",
       "96     None\n",
       "97     None\n",
       "98     None\n",
       "99     None\n",
       "100    None\n",
       "101    None\n",
       "102    None\n",
       "103    None\n",
       "104    None\n",
       "105    None\n",
       "106    None\n",
       "107    None\n",
       "       ... \n",
       "569    None\n",
       "576    None\n",
       "585    None\n",
       "586    None\n",
       "587    None\n",
       "592    None\n",
       "593    None\n",
       "601    None\n",
       "603    None\n",
       "608    None\n",
       "609    None\n",
       "611    None\n",
       "612    None\n",
       "613    None\n",
       "615    None\n",
       "616    None\n",
       "617    None\n",
       "633    None\n",
       "636    None\n",
       "637    None\n",
       "640    None\n",
       "641    None\n",
       "643    None\n",
       "644    None\n",
       "645    None\n",
       "647    None\n",
       "648    None\n",
       "649    None\n",
       "650    None\n",
       "651    None\n",
       "Length: 157, dtype: object"
      ]
     },
     "execution_count": 16,
     "metadata": {},
     "output_type": "execute_result"
    }
   ],
   "source": [
    "dataset_df[dataset_df['segmentation_success_flag'] == True].apply(lambda x: save_segmented_image(x), axis=1)\n",
    "dataset_df[dataset_df['segmentation_success_flag'] == True].apply(lambda x: save_annotated_image(x), axis=1)"
   ]
  },
  {
   "cell_type": "markdown",
   "metadata": {},
   "source": [
    "## Prepare alternate dataset for the training pipeline"
   ]
  },
  {
   "cell_type": "code",
   "execution_count": 17,
   "metadata": {},
   "outputs": [
    {
     "name": "stdout",
     "output_type": "stream",
     "text": [
      " Class : \t \t 7\n",
      " Class : \t \t P\n",
      " Class : \t \t M\n",
      " Class : \t \t D\n",
      " Class : \t \t A\n",
      " Class : \t \t H\n",
      " Class : \t \t 6\n",
      " Class : \t \t 2\n",
      " Class : \t \t 4\n",
      " Class : \t \t L\n",
      " Class : \t \t 8\n",
      " Class : \t \t F\n",
      " Class : \t \t Y\n",
      " Class : \t \t C\n",
      " Class : \t \t X\n",
      " Class : \t \t 5\n",
      " Class : \t \t Q\n",
      " Class : \t \t G\n",
      " Class : \t \t E\n",
      " Class : \t \t J\n",
      " Class : \t \t 0\n",
      " Class : \t \t U\n",
      " Class : \t \t W\n",
      " Class : \t \t R\n",
      " Class : \t \t 9\n",
      " Class : \t \t N\n",
      " Class : \t \t 1\n",
      " Class : \t \t 3\n",
      " Class : \t \t S\n",
      " Class : \t \t B\n",
      " Class : \t \t Z\n",
      " Class : \t \t T\n",
      " Class : \t \t I\n",
      " Class : \t \t K\n",
      " Class : \t \t O\n",
      " Class : \t \t V\n"
     ]
    }
   ],
   "source": [
    "# List of images\n",
    "data = []\n",
    "\n",
    "# List of labels\n",
    "labels = []\n",
    "\n",
    "input_path = './data/alternate_data'\n",
    "# Load all directory\n",
    "for root, dirs, files in os.walk(input_path):\n",
    "    # Filter every folder\n",
    "    for dir in dirs:\n",
    "        print(\" Class : \\t \\t \" + dir)\n",
    "        # Filter all files in the directory\n",
    "        for filename in os.listdir(input_path + \"/\" + dir):\n",
    "            # Filter only the files which are image\n",
    "            if filename.endswith('.jpg'):\n",
    "                img = cv2.imread(input_path + \"/\" + dir + \"/\" + filename)\n",
    "                gray = cv2.cvtColor(img, cv2.COLOR_BGR2GRAY)\n",
    "                data.append(gray)\n",
    "                labels.append(dir)"
   ]
  },
  {
   "cell_type": "code",
   "execution_count": 18,
   "metadata": {},
   "outputs": [
    {
     "name": "stdout",
     "output_type": "stream",
     "text": [
      "Length data: 36576\n",
      "Length labels: 36576\n"
     ]
    }
   ],
   "source": [
    "# Save test data and labels\n",
    "pickle.dump(data, open(\"./data/alternate_data.pickle\", \"wb\"))\n",
    "pickle.dump(labels, open(\"./data/alternate_data_labels.pickle\", \"wb\"))\n",
    "\n",
    "print('Length data: ' + str(len(data)))\n",
    "print('Length labels: ' + str(len(labels)))"
   ]
  },
  {
   "cell_type": "code",
   "execution_count": null,
   "metadata": {},
   "outputs": [],
   "source": []
  }
 ],
 "metadata": {
  "kernelspec": {
   "display_name": "Python 3",
   "language": "python",
   "name": "python3"
  },
  "language_info": {
   "codemirror_mode": {
    "name": "ipython",
    "version": 3
   },
   "file_extension": ".py",
   "mimetype": "text/x-python",
   "name": "python",
   "nbconvert_exporter": "python",
   "pygments_lexer": "ipython3",
   "version": "3.5.2"
  }
 },
 "nbformat": 4,
 "nbformat_minor": 2
}
